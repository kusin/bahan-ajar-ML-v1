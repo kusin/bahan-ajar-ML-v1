{
 "cells": [
  {
   "cell_type": "markdown",
   "metadata": {},
   "source": [
    "### Deklarasi pustaka yang digunakan"
   ]
  },
  {
   "cell_type": "code",
   "execution_count": 1,
   "metadata": {},
   "outputs": [],
   "source": [
    "# Load library yang digunakan\n",
    "# Lib untuk manipulasi data\n",
    "import numpy as np\n",
    "import pandas as pd\n",
    "\n",
    "# lib untuk model statistik\n",
    "import scipy.stats as sc\n",
    "import statsmodels.api as sm\n",
    "\n",
    "# lib untuk visualisasi data\n",
    "import seaborn as sns\n",
    "import matplotlib.pyplot as plt\n",
    "#%matplotlib inline"
   ]
  },
  {
   "cell_type": "markdown",
   "metadata": {},
   "source": [
    "### Fungsi membaca dataset"
   ]
  },
  {
   "cell_type": "code",
   "execution_count": 2,
   "metadata": {},
   "outputs": [],
   "source": [
    "# fungsi membaca csv\n",
    "def load_dataset_csv(nm_dataset):\n",
    "    # windows\n",
    "    df = pd.read_csv(\"D:/Materi Kuliah - Machine Learning v1/dataset/\"+nm_dataset)\n",
    "    \n",
    "    # linux\n",
    "    # df = pd.read_csv(\"/home/lunox/Documents/Bahan Ajar Big Data/dataset/\"+nm_dataset)\n",
    "    return df\n",
    "\n",
    "# fungsi membaca xlsx\n",
    "def load_dataset_xlsx(nm_dataset, nm_sheet):\n",
    "    # windows\n",
    "    df = pd.read_excel(\"D:/Materi Kuliah - Machine Learning v1/dataset/\"+nm_dataset, sheet_name=nm_sheet)\n",
    "    \n",
    "    # linux\n",
    "    # df = pd.read_excel(\"/home/lunox/Documents/Bahan Ajar Big Data/dataset/\"+nm_dataset, sheet_name=nm_sheet)\n",
    "    return df"
   ]
  },
  {
   "cell_type": "code",
   "execution_count": 3,
   "metadata": {},
   "outputs": [],
   "source": [
    "def covid_indonesia():\n",
    "    # ket. data sudah di pra-proses (seleksi fitur dan reduksi dimensi)\n",
    "    # load dataset windows\n",
    "    # df_indo = load_dataset_xlsx(\"dataset_covid.xlsx\", \"data covid indonesia\")\n",
    "    \n",
    "    # load dataset linux\n",
    "    df_indo = load_dataset_xlsx(\"dataset_covid.xlsx\", \"data covid indonesia\")\n",
    "\n",
    "    # Tujuannya agar dapat dilakukan plot time series positif, sembuh dan meninggal\n",
    "    df_indo[\"tanggal\"] = pd.to_datetime(df_indo[\"tanggal\"], format=\"%Y/%m/%d\")\n",
    "    \n",
    "    # memalukan indexing berdasarkan tanggal\n",
    "    df_indo = df_indo.set_index(\"tanggal\")\n",
    "\n",
    "    return df_indo"
   ]
  },
  {
   "cell_type": "code",
   "execution_count": 4,
   "metadata": {},
   "outputs": [],
   "source": [
    "def covid_provinsi():\n",
    "    # ket. data sudah di pra-proses (seleksi fitur dan reduksi dimensi)\n",
    "    # load dataset\n",
    "    df_prov = load_dataset_xlsx(\"dataset_covid.xlsx\", \"data covid provinsi\")\n",
    "    #df_prov = df_prov.set_index(\"provinsi\")\n",
    "    return df_prov"
   ]
  },
  {
   "cell_type": "markdown",
   "metadata": {},
   "source": [
    "### fungsi membuat visualisasi data"
   ]
  },
  {
   "cell_type": "code",
   "execution_count": 5,
   "metadata": {},
   "outputs": [],
   "source": [
    "# fungsi menampilkan visualisasi time serie\n",
    "def visual_time_series(df, nm_color, nm_marker, nm_label, nm_xlabel, nm_ylabel, nm_title):\n",
    "    \n",
    "    # membuat frame\n",
    "    fig, ax = plt.subplots(figsize = (20,7))\n",
    "    \n",
    "    for x in range(len(df.columns.values)):\n",
    "        ax.plot(df.index.values, df.iloc[:, x:x+1], color=\"tab:\"+nm_color[x], marker=nm_marker, label=nm_label[x], linewidth=2.5)\n",
    "    \n",
    "    # membuat label-label\n",
    "    ax.set_title(nm_title, fontsize=14)\n",
    "    ax.set_xlabel(nm_xlabel, fontsize=14)\n",
    "    ax.set_ylabel(nm_ylabel, fontsize=14)\n",
    "    ax.legend(loc='upper right')\n",
    "    ax.grid(True)\n",
    "    \n",
    "    # menampilkan plot\n",
    "    plt.show()"
   ]
  },
  {
   "cell_type": "code",
   "execution_count": 6,
   "metadata": {},
   "outputs": [],
   "source": [
    "# fungsi menampilkan viusalisasi barplot\n",
    "def visual_barplot(nilai_x, nilai_y, nm_color, nm_title):\n",
    "    # Membuat frame barplot\n",
    "    fig, ax = plt.subplots(figsize=(20, 7))\n",
    "\n",
    "    # Membuat barplot jumlah positif\n",
    "    ax.bar(nilai_x, nilai_y, color=nm_color)\n",
    "\n",
    "    # membuat label-label\n",
    "    ax.set_title(nm_title, fontsize=16)\n",
    "    \n",
    "    # Menampilkan hasilnya\n",
    "    plt.xticks(rotation=90)\n",
    "    plt.yticks(rotation=0)\n",
    "    plt.grid(True)\n",
    "    plt.show()"
   ]
  },
  {
   "cell_type": "code",
   "execution_count": 7,
   "metadata": {},
   "outputs": [],
   "source": [
    "# fungsi menampilkan viusalisasi pie chart\n",
    "def visual_pie(sizes, nm_labels):\n",
    "    # Membuat frame pie chart\n",
    "    fig, ax = plt.subplots(figsize=(20, 7))\n",
    "    \n",
    "    # membuat pie chart\n",
    "    ax.pie(sizes, labels=nm_labels, explode=(0.1, 0, 0, 0, 0), autopct='%.2f%%', startangle=90)\n",
    "    ax.axis('equal')\n",
    "    \n",
    "    # menampilkan pie chart\n",
    "    plt.show()"
   ]
  },
  {
   "cell_type": "code",
   "execution_count": 8,
   "metadata": {},
   "outputs": [],
   "source": [
    "# fungsi menampilkan viusalisasi scatter plot\n",
    "def visual_scatter(nilai_x, nilai_y, nm_color, nm_label, nm_xlabel, nm_ylabel, nm_title):\n",
    "    # membuat frame scatter plot\n",
    "    fig, ax = plt.subplots(figsize = (20,7))\n",
    "\n",
    "    # membuat scatter plot\n",
    "    ax.scatter(nilai_x, nilai_y, color=\"tab:\"+nm_color, label=nm_label, linewidth=5, alpha=0.5)\n",
    "\n",
    "    # membuat label-label\n",
    "    ax.set_title(nm_title, fontsize=14)\n",
    "    ax.set_xlabel(nm_xlabel, fontsize=12)\n",
    "    ax.set_ylabel(nm_ylabel, fontsize=12)\n",
    "    ax.legend(loc='upper left')\n",
    "    ax.grid(True)\n",
    "\n",
    "    # Menampilkan Hasil Visualisasi\n",
    "    plt.show()"
   ]
  },
  {
   "cell_type": "code",
   "execution_count": 9,
   "metadata": {},
   "outputs": [],
   "source": [
    "# fungsi menampilkan viusalisasi heatmap correlation\n",
    "def visual_heatmap(df, nm_corr):\n",
    "    # menghilangkan format indexing tanggal\n",
    "    df = df.reset_index(drop=True)\n",
    "    \n",
    "    # membuat perhitungan korelasi terlebih dahulu\n",
    "    df_corr = df.corr(method=nm_corr)\n",
    "    \n",
    "    # membuat frame heatmap\n",
    "    fig,ax = plt.subplots(figsize=(20,10))\n",
    "    \n",
    "    # proses visual heatmap\n",
    "    # => pilihan warna lain untuk visual heatmap (coolwarm, Blues, RdYlGn_r, viridis, YlGnBu)\n",
    "    sns.heatmap(df_corr, cmap=\"viridis\", vmax=1, vmin=-1, annot=True, linewidths=1, fmt='.4f', ax=ax)\n",
    "    \n",
    "    # membuat title atau judul\n",
    "    plt.title(\"Heatmap Correlation Data Covid-19 Indonesia\", fontsize=16)\n",
    "    \n",
    "    # Menampilkan hasil visualisasi\n",
    "    plt.show()"
   ]
  },
  {
   "cell_type": "code",
   "execution_count": null,
   "metadata": {},
   "outputs": [],
   "source": []
  },
  {
   "cell_type": "code",
   "execution_count": null,
   "metadata": {},
   "outputs": [],
   "source": []
  },
  {
   "cell_type": "code",
   "execution_count": null,
   "metadata": {},
   "outputs": [],
   "source": []
  }
 ],
 "metadata": {
  "kernelspec": {
   "display_name": "Python 3 (ipykernel)",
   "language": "python",
   "name": "python3"
  },
  "language_info": {
   "codemirror_mode": {
    "name": "ipython",
    "version": 3
   },
   "file_extension": ".py",
   "mimetype": "text/x-python",
   "name": "python",
   "nbconvert_exporter": "python",
   "pygments_lexer": "ipython3",
   "version": "3.11.8"
  }
 },
 "nbformat": 4,
 "nbformat_minor": 4
}
